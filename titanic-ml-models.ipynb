{
 "cells": [
  {
   "cell_type": "code",
   "execution_count": 1,
   "id": "5b04fa48",
   "metadata": {
    "_cell_guid": "b1076dfc-b9ad-4769-8c92-a6c4dae69d19",
    "_uuid": "8f2839f25d086af736a60e9eeb907d3b93b6e0e5",
    "execution": {
     "iopub.execute_input": "2023-05-12T15:19:52.468514Z",
     "iopub.status.busy": "2023-05-12T15:19:52.468016Z",
     "iopub.status.idle": "2023-05-12T15:19:52.483135Z",
     "shell.execute_reply": "2023-05-12T15:19:52.481223Z"
    },
    "papermill": {
     "duration": 0.031458,
     "end_time": "2023-05-12T15:19:52.486880",
     "exception": false,
     "start_time": "2023-05-12T15:19:52.455422",
     "status": "completed"
    },
    "tags": []
   },
   "outputs": [
    {
     "name": "stdout",
     "output_type": "stream",
     "text": [
      "/kaggle/input/titanic/train.csv\n",
      "/kaggle/input/titanic/test.csv\n",
      "/kaggle/input/titanic/gender_submission.csv\n"
     ]
    }
   ],
   "source": [
    "# This Python 3 environment comes with many helpful analytics libraries installed\n",
    "# It is defined by the kaggle/python Docker image: https://github.com/kaggle/docker-python\n",
    "# For example, here's several helpful packages to load\n",
    "\n",
    "import numpy as np # linear algebra\n",
    "import pandas as pd # data processing, CSV file I/O (e.g. pd.read_csv)\n",
    "\n",
    "# Input data files are available in the read-only \"../input/\" directory\n",
    "# For example, running this (by clicking run or pressing Shift+Enter) will list all files under the input directory\n",
    "\n",
    "import os\n",
    "for dirname, _, filenames in os.walk('/kaggle/input'):\n",
    "    for filename in filenames:\n",
    "        print(os.path.join(dirname, filename))\n",
    "\n",
    "# You can write up to 20GB to the current directory (/kaggle/working/) that gets preserved as output when you create a version using \"Save & Run All\" \n",
    "# You can also write temporary files to /kaggle/temp/, but they won't be saved outside of the current session"
   ]
  },
  {
   "cell_type": "code",
   "execution_count": 2,
   "id": "be4550b4",
   "metadata": {
    "execution": {
     "iopub.execute_input": "2023-05-12T15:19:52.512803Z",
     "iopub.status.busy": "2023-05-12T15:19:52.512347Z",
     "iopub.status.idle": "2023-05-12T15:19:54.442573Z",
     "shell.execute_reply": "2023-05-12T15:19:54.441791Z"
    },
    "papermill": {
     "duration": 1.946957,
     "end_time": "2023-05-12T15:19:54.445337",
     "exception": false,
     "start_time": "2023-05-12T15:19:52.498380",
     "status": "completed"
    },
    "tags": []
   },
   "outputs": [],
   "source": [
    "import numpy as np \n",
    "import pandas as pd \n",
    "import os\n",
    "import seaborn as sns\n",
    "import matplotlib.pyplot as plt\n",
    "from sklearn import preprocessing\n",
    "from sklearn.model_selection import train_test_split\n",
    "from scipy import stats\n",
    "from sklearn.linear_model import LogisticRegression\n",
    "from collections import Counter\n",
    "from sklearn.metrics import confusion_matrix\n",
    "from sklearn.metrics import accuracy_score, f1_score\n",
    "from xgboost import XGBClassifier\n",
    "from sklearn.ensemble import RandomForestRegressor\n",
    "from sklearn.naive_bayes import BernoulliNB\n",
    "from sklearn.naive_bayes import GaussianNB\n",
    "from sklearn.svm import SVC\n",
    "from sklearn.ensemble import RandomForestRegressor\n",
    "import warnings\n",
    "\n",
    "warnings.filterwarnings(\"ignore\")"
   ]
  },
  {
   "cell_type": "markdown",
   "id": "754f86eb",
   "metadata": {
    "papermill": {
     "duration": 0.011747,
     "end_time": "2023-05-12T15:19:54.469389",
     "exception": false,
     "start_time": "2023-05-12T15:19:54.457642",
     "status": "completed"
    },
    "tags": []
   },
   "source": [
    "# Import Data from Kaggle "
   ]
  },
  {
   "cell_type": "code",
   "execution_count": 3,
   "id": "6548cbee",
   "metadata": {
    "execution": {
     "iopub.execute_input": "2023-05-12T15:19:54.493075Z",
     "iopub.status.busy": "2023-05-12T15:19:54.492155Z",
     "iopub.status.idle": "2023-05-12T15:19:54.525342Z",
     "shell.execute_reply": "2023-05-12T15:19:54.523976Z"
    },
    "papermill": {
     "duration": 0.048363,
     "end_time": "2023-05-12T15:19:54.528389",
     "exception": false,
     "start_time": "2023-05-12T15:19:54.480026",
     "status": "completed"
    },
    "tags": []
   },
   "outputs": [],
   "source": [
    "train = pd.read_csv('/kaggle/input/titanic/train.csv')\n",
    "test = pd.read_csv('/kaggle/input/titanic/test.csv')"
   ]
  },
  {
   "cell_type": "markdown",
   "id": "0691d3ff",
   "metadata": {
    "papermill": {
     "duration": 0.010355,
     "end_time": "2023-05-12T15:19:54.550363",
     "exception": false,
     "start_time": "2023-05-12T15:19:54.540008",
     "status": "completed"
    },
    "tags": []
   },
   "source": [
    "# Show Data Before Processing ( Cleaning):"
   ]
  },
  {
   "cell_type": "code",
   "execution_count": 4,
   "id": "fed56ff3",
   "metadata": {
    "execution": {
     "iopub.execute_input": "2023-05-12T15:19:54.572668Z",
     "iopub.status.busy": "2023-05-12T15:19:54.572090Z",
     "iopub.status.idle": "2023-05-12T15:19:54.605036Z",
     "shell.execute_reply": "2023-05-12T15:19:54.604040Z"
    },
    "papermill": {
     "duration": 0.047069,
     "end_time": "2023-05-12T15:19:54.607447",
     "exception": false,
     "start_time": "2023-05-12T15:19:54.560378",
     "status": "completed"
    },
    "tags": []
   },
   "outputs": [
    {
     "data": {
      "text/html": [
       "<div>\n",
       "<style scoped>\n",
       "    .dataframe tbody tr th:only-of-type {\n",
       "        vertical-align: middle;\n",
       "    }\n",
       "\n",
       "    .dataframe tbody tr th {\n",
       "        vertical-align: top;\n",
       "    }\n",
       "\n",
       "    .dataframe thead th {\n",
       "        text-align: right;\n",
       "    }\n",
       "</style>\n",
       "<table border=\"1\" class=\"dataframe\">\n",
       "  <thead>\n",
       "    <tr style=\"text-align: right;\">\n",
       "      <th></th>\n",
       "      <th>PassengerId</th>\n",
       "      <th>Survived</th>\n",
       "      <th>Pclass</th>\n",
       "      <th>Name</th>\n",
       "      <th>Sex</th>\n",
       "      <th>Age</th>\n",
       "      <th>SibSp</th>\n",
       "      <th>Parch</th>\n",
       "      <th>Ticket</th>\n",
       "      <th>Fare</th>\n",
       "      <th>Cabin</th>\n",
       "      <th>Embarked</th>\n",
       "    </tr>\n",
       "  </thead>\n",
       "  <tbody>\n",
       "    <tr>\n",
       "      <th>0</th>\n",
       "      <td>1</td>\n",
       "      <td>0</td>\n",
       "      <td>3</td>\n",
       "      <td>Braund, Mr. Owen Harris</td>\n",
       "      <td>male</td>\n",
       "      <td>22.0</td>\n",
       "      <td>1</td>\n",
       "      <td>0</td>\n",
       "      <td>A/5 21171</td>\n",
       "      <td>7.2500</td>\n",
       "      <td>NaN</td>\n",
       "      <td>S</td>\n",
       "    </tr>\n",
       "    <tr>\n",
       "      <th>1</th>\n",
       "      <td>2</td>\n",
       "      <td>1</td>\n",
       "      <td>1</td>\n",
       "      <td>Cumings, Mrs. John Bradley (Florence Briggs Th...</td>\n",
       "      <td>female</td>\n",
       "      <td>38.0</td>\n",
       "      <td>1</td>\n",
       "      <td>0</td>\n",
       "      <td>PC 17599</td>\n",
       "      <td>71.2833</td>\n",
       "      <td>C85</td>\n",
       "      <td>C</td>\n",
       "    </tr>\n",
       "    <tr>\n",
       "      <th>2</th>\n",
       "      <td>3</td>\n",
       "      <td>1</td>\n",
       "      <td>3</td>\n",
       "      <td>Heikkinen, Miss. Laina</td>\n",
       "      <td>female</td>\n",
       "      <td>26.0</td>\n",
       "      <td>0</td>\n",
       "      <td>0</td>\n",
       "      <td>STON/O2. 3101282</td>\n",
       "      <td>7.9250</td>\n",
       "      <td>NaN</td>\n",
       "      <td>S</td>\n",
       "    </tr>\n",
       "    <tr>\n",
       "      <th>3</th>\n",
       "      <td>4</td>\n",
       "      <td>1</td>\n",
       "      <td>1</td>\n",
       "      <td>Futrelle, Mrs. Jacques Heath (Lily May Peel)</td>\n",
       "      <td>female</td>\n",
       "      <td>35.0</td>\n",
       "      <td>1</td>\n",
       "      <td>0</td>\n",
       "      <td>113803</td>\n",
       "      <td>53.1000</td>\n",
       "      <td>C123</td>\n",
       "      <td>S</td>\n",
       "    </tr>\n",
       "    <tr>\n",
       "      <th>4</th>\n",
       "      <td>5</td>\n",
       "      <td>0</td>\n",
       "      <td>3</td>\n",
       "      <td>Allen, Mr. William Henry</td>\n",
       "      <td>male</td>\n",
       "      <td>35.0</td>\n",
       "      <td>0</td>\n",
       "      <td>0</td>\n",
       "      <td>373450</td>\n",
       "      <td>8.0500</td>\n",
       "      <td>NaN</td>\n",
       "      <td>S</td>\n",
       "    </tr>\n",
       "    <tr>\n",
       "      <th>...</th>\n",
       "      <td>...</td>\n",
       "      <td>...</td>\n",
       "      <td>...</td>\n",
       "      <td>...</td>\n",
       "      <td>...</td>\n",
       "      <td>...</td>\n",
       "      <td>...</td>\n",
       "      <td>...</td>\n",
       "      <td>...</td>\n",
       "      <td>...</td>\n",
       "      <td>...</td>\n",
       "      <td>...</td>\n",
       "    </tr>\n",
       "    <tr>\n",
       "      <th>145</th>\n",
       "      <td>146</td>\n",
       "      <td>0</td>\n",
       "      <td>2</td>\n",
       "      <td>Nicholls, Mr. Joseph Charles</td>\n",
       "      <td>male</td>\n",
       "      <td>19.0</td>\n",
       "      <td>1</td>\n",
       "      <td>1</td>\n",
       "      <td>C.A. 33112</td>\n",
       "      <td>36.7500</td>\n",
       "      <td>NaN</td>\n",
       "      <td>S</td>\n",
       "    </tr>\n",
       "    <tr>\n",
       "      <th>146</th>\n",
       "      <td>147</td>\n",
       "      <td>1</td>\n",
       "      <td>3</td>\n",
       "      <td>Andersson, Mr. August Edvard (\"Wennerstrom\")</td>\n",
       "      <td>male</td>\n",
       "      <td>27.0</td>\n",
       "      <td>0</td>\n",
       "      <td>0</td>\n",
       "      <td>350043</td>\n",
       "      <td>7.7958</td>\n",
       "      <td>NaN</td>\n",
       "      <td>S</td>\n",
       "    </tr>\n",
       "    <tr>\n",
       "      <th>147</th>\n",
       "      <td>148</td>\n",
       "      <td>0</td>\n",
       "      <td>3</td>\n",
       "      <td>Ford, Miss. Robina Maggie \"Ruby\"</td>\n",
       "      <td>female</td>\n",
       "      <td>9.0</td>\n",
       "      <td>2</td>\n",
       "      <td>2</td>\n",
       "      <td>W./C. 6608</td>\n",
       "      <td>34.3750</td>\n",
       "      <td>NaN</td>\n",
       "      <td>S</td>\n",
       "    </tr>\n",
       "    <tr>\n",
       "      <th>148</th>\n",
       "      <td>149</td>\n",
       "      <td>0</td>\n",
       "      <td>2</td>\n",
       "      <td>Navratil, Mr. Michel (\"Louis M Hoffman\")</td>\n",
       "      <td>male</td>\n",
       "      <td>36.5</td>\n",
       "      <td>0</td>\n",
       "      <td>2</td>\n",
       "      <td>230080</td>\n",
       "      <td>26.0000</td>\n",
       "      <td>F2</td>\n",
       "      <td>S</td>\n",
       "    </tr>\n",
       "    <tr>\n",
       "      <th>149</th>\n",
       "      <td>150</td>\n",
       "      <td>0</td>\n",
       "      <td>2</td>\n",
       "      <td>Byles, Rev. Thomas Roussel Davids</td>\n",
       "      <td>male</td>\n",
       "      <td>42.0</td>\n",
       "      <td>0</td>\n",
       "      <td>0</td>\n",
       "      <td>244310</td>\n",
       "      <td>13.0000</td>\n",
       "      <td>NaN</td>\n",
       "      <td>S</td>\n",
       "    </tr>\n",
       "  </tbody>\n",
       "</table>\n",
       "<p>150 rows × 12 columns</p>\n",
       "</div>"
      ],
      "text/plain": [
       "     PassengerId  Survived  Pclass  \\\n",
       "0              1         0       3   \n",
       "1              2         1       1   \n",
       "2              3         1       3   \n",
       "3              4         1       1   \n",
       "4              5         0       3   \n",
       "..           ...       ...     ...   \n",
       "145          146         0       2   \n",
       "146          147         1       3   \n",
       "147          148         0       3   \n",
       "148          149         0       2   \n",
       "149          150         0       2   \n",
       "\n",
       "                                                  Name     Sex   Age  SibSp  \\\n",
       "0                              Braund, Mr. Owen Harris    male  22.0      1   \n",
       "1    Cumings, Mrs. John Bradley (Florence Briggs Th...  female  38.0      1   \n",
       "2                               Heikkinen, Miss. Laina  female  26.0      0   \n",
       "3         Futrelle, Mrs. Jacques Heath (Lily May Peel)  female  35.0      1   \n",
       "4                             Allen, Mr. William Henry    male  35.0      0   \n",
       "..                                                 ...     ...   ...    ...   \n",
       "145                       Nicholls, Mr. Joseph Charles    male  19.0      1   \n",
       "146       Andersson, Mr. August Edvard (\"Wennerstrom\")    male  27.0      0   \n",
       "147                   Ford, Miss. Robina Maggie \"Ruby\"  female   9.0      2   \n",
       "148           Navratil, Mr. Michel (\"Louis M Hoffman\")    male  36.5      0   \n",
       "149                  Byles, Rev. Thomas Roussel Davids    male  42.0      0   \n",
       "\n",
       "     Parch            Ticket     Fare Cabin Embarked  \n",
       "0        0         A/5 21171   7.2500   NaN        S  \n",
       "1        0          PC 17599  71.2833   C85        C  \n",
       "2        0  STON/O2. 3101282   7.9250   NaN        S  \n",
       "3        0            113803  53.1000  C123        S  \n",
       "4        0            373450   8.0500   NaN        S  \n",
       "..     ...               ...      ...   ...      ...  \n",
       "145      1        C.A. 33112  36.7500   NaN        S  \n",
       "146      0            350043   7.7958   NaN        S  \n",
       "147      2        W./C. 6608  34.3750   NaN        S  \n",
       "148      2            230080  26.0000    F2        S  \n",
       "149      0            244310  13.0000   NaN        S  \n",
       "\n",
       "[150 rows x 12 columns]"
      ]
     },
     "execution_count": 4,
     "metadata": {},
     "output_type": "execute_result"
    }
   ],
   "source": [
    "train.head(150)\n"
   ]
  },
  {
   "cell_type": "code",
   "execution_count": 5,
   "id": "a6a9f12e",
   "metadata": {
    "execution": {
     "iopub.execute_input": "2023-05-12T15:19:54.631885Z",
     "iopub.status.busy": "2023-05-12T15:19:54.631492Z",
     "iopub.status.idle": "2023-05-12T15:19:54.637926Z",
     "shell.execute_reply": "2023-05-12T15:19:54.637052Z"
    },
    "papermill": {
     "duration": 0.020889,
     "end_time": "2023-05-12T15:19:54.639725",
     "exception": false,
     "start_time": "2023-05-12T15:19:54.618836",
     "status": "completed"
    },
    "tags": []
   },
   "outputs": [
    {
     "data": {
      "text/plain": [
       "(891, 12)"
      ]
     },
     "execution_count": 5,
     "metadata": {},
     "output_type": "execute_result"
    }
   ],
   "source": [
    "train.shape"
   ]
  },
  {
   "cell_type": "code",
   "execution_count": 6,
   "id": "9c2abea9",
   "metadata": {
    "execution": {
     "iopub.execute_input": "2023-05-12T15:19:54.666363Z",
     "iopub.status.busy": "2023-05-12T15:19:54.665914Z",
     "iopub.status.idle": "2023-05-12T15:19:54.672562Z",
     "shell.execute_reply": "2023-05-12T15:19:54.671606Z"
    },
    "papermill": {
     "duration": 0.022937,
     "end_time": "2023-05-12T15:19:54.674803",
     "exception": false,
     "start_time": "2023-05-12T15:19:54.651866",
     "status": "completed"
    },
    "tags": []
   },
   "outputs": [
    {
     "data": {
      "text/plain": [
       "Index(['PassengerId', 'Survived', 'Pclass', 'Name', 'Sex', 'Age', 'SibSp',\n",
       "       'Parch', 'Ticket', 'Fare', 'Cabin', 'Embarked'],\n",
       "      dtype='object')"
      ]
     },
     "execution_count": 6,
     "metadata": {},
     "output_type": "execute_result"
    }
   ],
   "source": [
    "col_names = train.columns\n",
    "\n",
    "col_names"
   ]
  },
  {
   "cell_type": "code",
   "execution_count": 7,
   "id": "4b193ad6",
   "metadata": {
    "execution": {
     "iopub.execute_input": "2023-05-12T15:19:54.700332Z",
     "iopub.status.busy": "2023-05-12T15:19:54.699891Z",
     "iopub.status.idle": "2023-05-12T15:19:54.724766Z",
     "shell.execute_reply": "2023-05-12T15:19:54.723523Z"
    },
    "papermill": {
     "duration": 0.039503,
     "end_time": "2023-05-12T15:19:54.726498",
     "exception": false,
     "start_time": "2023-05-12T15:19:54.686995",
     "status": "completed"
    },
    "tags": []
   },
   "outputs": [
    {
     "name": "stdout",
     "output_type": "stream",
     "text": [
      "<class 'pandas.core.frame.DataFrame'>\n",
      "RangeIndex: 891 entries, 0 to 890\n",
      "Data columns (total 12 columns):\n",
      " #   Column       Non-Null Count  Dtype  \n",
      "---  ------       --------------  -----  \n",
      " 0   PassengerId  891 non-null    int64  \n",
      " 1   Survived     891 non-null    int64  \n",
      " 2   Pclass       891 non-null    int64  \n",
      " 3   Name         891 non-null    object \n",
      " 4   Sex          891 non-null    object \n",
      " 5   Age          714 non-null    float64\n",
      " 6   SibSp        891 non-null    int64  \n",
      " 7   Parch        891 non-null    int64  \n",
      " 8   Ticket       891 non-null    object \n",
      " 9   Fare         891 non-null    float64\n",
      " 10  Cabin        204 non-null    object \n",
      " 11  Embarked     889 non-null    object \n",
      "dtypes: float64(2), int64(5), object(5)\n",
      "memory usage: 83.7+ KB\n"
     ]
    }
   ],
   "source": [
    "train.info()"
   ]
  },
  {
   "cell_type": "code",
   "execution_count": 8,
   "id": "50303af7",
   "metadata": {
    "execution": {
     "iopub.execute_input": "2023-05-12T15:19:54.749754Z",
     "iopub.status.busy": "2023-05-12T15:19:54.748676Z",
     "iopub.status.idle": "2023-05-12T15:19:54.776211Z",
     "shell.execute_reply": "2023-05-12T15:19:54.775239Z"
    },
    "papermill": {
     "duration": 0.041027,
     "end_time": "2023-05-12T15:19:54.778117",
     "exception": false,
     "start_time": "2023-05-12T15:19:54.737090",
     "status": "completed"
    },
    "tags": []
   },
   "outputs": [
    {
     "data": {
      "text/html": [
       "<div>\n",
       "<style scoped>\n",
       "    .dataframe tbody tr th:only-of-type {\n",
       "        vertical-align: middle;\n",
       "    }\n",
       "\n",
       "    .dataframe tbody tr th {\n",
       "        vertical-align: top;\n",
       "    }\n",
       "\n",
       "    .dataframe thead th {\n",
       "        text-align: right;\n",
       "    }\n",
       "</style>\n",
       "<table border=\"1\" class=\"dataframe\">\n",
       "  <thead>\n",
       "    <tr style=\"text-align: right;\">\n",
       "      <th></th>\n",
       "      <th>PassengerId</th>\n",
       "      <th>Survived</th>\n",
       "      <th>Pclass</th>\n",
       "      <th>Age</th>\n",
       "      <th>SibSp</th>\n",
       "      <th>Parch</th>\n",
       "      <th>Fare</th>\n",
       "    </tr>\n",
       "  </thead>\n",
       "  <tbody>\n",
       "    <tr>\n",
       "      <th>count</th>\n",
       "      <td>891.000000</td>\n",
       "      <td>891.000000</td>\n",
       "      <td>891.000000</td>\n",
       "      <td>714.000000</td>\n",
       "      <td>891.000000</td>\n",
       "      <td>891.000000</td>\n",
       "      <td>891.000000</td>\n",
       "    </tr>\n",
       "    <tr>\n",
       "      <th>mean</th>\n",
       "      <td>446.000000</td>\n",
       "      <td>0.383838</td>\n",
       "      <td>2.308642</td>\n",
       "      <td>29.699118</td>\n",
       "      <td>0.523008</td>\n",
       "      <td>0.381594</td>\n",
       "      <td>32.204208</td>\n",
       "    </tr>\n",
       "    <tr>\n",
       "      <th>std</th>\n",
       "      <td>257.353842</td>\n",
       "      <td>0.486592</td>\n",
       "      <td>0.836071</td>\n",
       "      <td>14.526497</td>\n",
       "      <td>1.102743</td>\n",
       "      <td>0.806057</td>\n",
       "      <td>49.693429</td>\n",
       "    </tr>\n",
       "    <tr>\n",
       "      <th>min</th>\n",
       "      <td>1.000000</td>\n",
       "      <td>0.000000</td>\n",
       "      <td>1.000000</td>\n",
       "      <td>0.420000</td>\n",
       "      <td>0.000000</td>\n",
       "      <td>0.000000</td>\n",
       "      <td>0.000000</td>\n",
       "    </tr>\n",
       "    <tr>\n",
       "      <th>25%</th>\n",
       "      <td>223.500000</td>\n",
       "      <td>0.000000</td>\n",
       "      <td>2.000000</td>\n",
       "      <td>20.125000</td>\n",
       "      <td>0.000000</td>\n",
       "      <td>0.000000</td>\n",
       "      <td>7.910400</td>\n",
       "    </tr>\n",
       "    <tr>\n",
       "      <th>50%</th>\n",
       "      <td>446.000000</td>\n",
       "      <td>0.000000</td>\n",
       "      <td>3.000000</td>\n",
       "      <td>28.000000</td>\n",
       "      <td>0.000000</td>\n",
       "      <td>0.000000</td>\n",
       "      <td>14.454200</td>\n",
       "    </tr>\n",
       "    <tr>\n",
       "      <th>75%</th>\n",
       "      <td>668.500000</td>\n",
       "      <td>1.000000</td>\n",
       "      <td>3.000000</td>\n",
       "      <td>38.000000</td>\n",
       "      <td>1.000000</td>\n",
       "      <td>0.000000</td>\n",
       "      <td>31.000000</td>\n",
       "    </tr>\n",
       "    <tr>\n",
       "      <th>max</th>\n",
       "      <td>891.000000</td>\n",
       "      <td>1.000000</td>\n",
       "      <td>3.000000</td>\n",
       "      <td>80.000000</td>\n",
       "      <td>8.000000</td>\n",
       "      <td>6.000000</td>\n",
       "      <td>512.329200</td>\n",
       "    </tr>\n",
       "  </tbody>\n",
       "</table>\n",
       "</div>"
      ],
      "text/plain": [
       "       PassengerId    Survived      Pclass         Age       SibSp  \\\n",
       "count   891.000000  891.000000  891.000000  714.000000  891.000000   \n",
       "mean    446.000000    0.383838    2.308642   29.699118    0.523008   \n",
       "std     257.353842    0.486592    0.836071   14.526497    1.102743   \n",
       "min       1.000000    0.000000    1.000000    0.420000    0.000000   \n",
       "25%     223.500000    0.000000    2.000000   20.125000    0.000000   \n",
       "50%     446.000000    0.000000    3.000000   28.000000    0.000000   \n",
       "75%     668.500000    1.000000    3.000000   38.000000    1.000000   \n",
       "max     891.000000    1.000000    3.000000   80.000000    8.000000   \n",
       "\n",
       "            Parch        Fare  \n",
       "count  891.000000  891.000000  \n",
       "mean     0.381594   32.204208  \n",
       "std      0.806057   49.693429  \n",
       "min      0.000000    0.000000  \n",
       "25%      0.000000    7.910400  \n",
       "50%      0.000000   14.454200  \n",
       "75%      0.000000   31.000000  \n",
       "max      6.000000  512.329200  "
      ]
     },
     "execution_count": 8,
     "metadata": {},
     "output_type": "execute_result"
    }
   ],
   "source": [
    "train.describe()"
   ]
  },
  {
   "cell_type": "code",
   "execution_count": 9,
   "id": "113733ea",
   "metadata": {
    "execution": {
     "iopub.execute_input": "2023-05-12T15:19:54.800982Z",
     "iopub.status.busy": "2023-05-12T15:19:54.800679Z",
     "iopub.status.idle": "2023-05-12T15:19:54.807233Z",
     "shell.execute_reply": "2023-05-12T15:19:54.806059Z"
    },
    "papermill": {
     "duration": 0.020185,
     "end_time": "2023-05-12T15:19:54.809005",
     "exception": false,
     "start_time": "2023-05-12T15:19:54.788820",
     "status": "completed"
    },
    "tags": []
   },
   "outputs": [
    {
     "data": {
      "text/plain": [
       "0"
      ]
     },
     "execution_count": 9,
     "metadata": {},
     "output_type": "execute_result"
    }
   ],
   "source": [
    "train['Survived'].isnull().sum()\n"
   ]
  },
  {
   "cell_type": "code",
   "execution_count": 10,
   "id": "a0d06963",
   "metadata": {
    "execution": {
     "iopub.execute_input": "2023-05-12T15:19:54.832724Z",
     "iopub.status.busy": "2023-05-12T15:19:54.831568Z",
     "iopub.status.idle": "2023-05-12T15:19:54.838316Z",
     "shell.execute_reply": "2023-05-12T15:19:54.837230Z"
    },
    "papermill": {
     "duration": 0.020245,
     "end_time": "2023-05-12T15:19:54.839995",
     "exception": false,
     "start_time": "2023-05-12T15:19:54.819750",
     "status": "completed"
    },
    "tags": []
   },
   "outputs": [
    {
     "name": "stdout",
     "output_type": "stream",
     "text": [
      "Categorical variables:\n",
      "['Name', 'Sex', 'Ticket', 'Cabin', 'Embarked']\n"
     ]
    }
   ],
   "source": [
    "s = (train.dtypes == \"object\")\n",
    "object_cols = list(s[s].index)\n",
    "\n",
    "print(\"Categorical variables:\")\n",
    "print(object_cols)"
   ]
  },
  {
   "cell_type": "code",
   "execution_count": 11,
   "id": "ea323cf8",
   "metadata": {
    "execution": {
     "iopub.execute_input": "2023-05-12T15:19:54.864806Z",
     "iopub.status.busy": "2023-05-12T15:19:54.863236Z",
     "iopub.status.idle": "2023-05-12T15:19:54.871569Z",
     "shell.execute_reply": "2023-05-12T15:19:54.870359Z"
    },
    "papermill": {
     "duration": 0.02265,
     "end_time": "2023-05-12T15:19:54.873517",
     "exception": false,
     "start_time": "2023-05-12T15:19:54.850867",
     "status": "completed"
    },
    "tags": []
   },
   "outputs": [
    {
     "name": "stdout",
     "output_type": "stream",
     "text": [
      "Name 0\n",
      "Sex 0\n",
      "Ticket 0\n",
      "Cabin 687\n",
      "Embarked 2\n"
     ]
    }
   ],
   "source": [
    "for i in object_cols:\n",
    "    print(i, train[i].isnull().sum())"
   ]
  },
  {
   "cell_type": "code",
   "execution_count": 12,
   "id": "3886655f",
   "metadata": {
    "execution": {
     "iopub.execute_input": "2023-05-12T15:19:54.898451Z",
     "iopub.status.busy": "2023-05-12T15:19:54.898065Z",
     "iopub.status.idle": "2023-05-12T15:19:54.904977Z",
     "shell.execute_reply": "2023-05-12T15:19:54.903747Z"
    },
    "papermill": {
     "duration": 0.022538,
     "end_time": "2023-05-12T15:19:54.907206",
     "exception": false,
     "start_time": "2023-05-12T15:19:54.884668",
     "status": "completed"
    },
    "tags": []
   },
   "outputs": [
    {
     "name": "stdout",
     "output_type": "stream",
     "text": [
      "Neumeric variables:\n",
      "['Age', 'Fare']\n"
     ]
    }
   ],
   "source": [
    "t = (train.dtypes == \"float64\")\n",
    "num_cols = list(t[t].index)\n",
    "\n",
    "print(\"Neumeric variables:\")\n",
    "print(num_cols)"
   ]
  },
  {
   "cell_type": "code",
   "execution_count": 13,
   "id": "9d88fef5",
   "metadata": {
    "execution": {
     "iopub.execute_input": "2023-05-12T15:19:54.932361Z",
     "iopub.status.busy": "2023-05-12T15:19:54.931125Z",
     "iopub.status.idle": "2023-05-12T15:19:54.937950Z",
     "shell.execute_reply": "2023-05-12T15:19:54.936535Z"
    },
    "papermill": {
     "duration": 0.020713,
     "end_time": "2023-05-12T15:19:54.939801",
     "exception": false,
     "start_time": "2023-05-12T15:19:54.919088",
     "status": "completed"
    },
    "tags": []
   },
   "outputs": [
    {
     "name": "stdout",
     "output_type": "stream",
     "text": [
      "Age 177\n",
      "Fare 0\n"
     ]
    }
   ],
   "source": [
    "for i in num_cols:\n",
    "    print(i, train[i].isnull().sum())"
   ]
  },
  {
   "cell_type": "code",
   "execution_count": 14,
   "id": "f5687ded",
   "metadata": {
    "execution": {
     "iopub.execute_input": "2023-05-12T15:19:54.963707Z",
     "iopub.status.busy": "2023-05-12T15:19:54.963027Z",
     "iopub.status.idle": "2023-05-12T15:19:54.971575Z",
     "shell.execute_reply": "2023-05-12T15:19:54.970235Z"
    },
    "papermill": {
     "duration": 0.02289,
     "end_time": "2023-05-12T15:19:54.973488",
     "exception": false,
     "start_time": "2023-05-12T15:19:54.950598",
     "status": "completed"
    },
    "tags": []
   },
   "outputs": [
    {
     "data": {
      "text/plain": [
       "0    549\n",
       "1    342\n",
       "Name: Survived, dtype: int64"
      ]
     },
     "execution_count": 14,
     "metadata": {},
     "output_type": "execute_result"
    }
   ],
   "source": [
    "train['Survived'].value_counts()"
   ]
  },
  {
   "cell_type": "code",
   "execution_count": 15,
   "id": "a4608638",
   "metadata": {
    "execution": {
     "iopub.execute_input": "2023-05-12T15:19:54.998687Z",
     "iopub.status.busy": "2023-05-12T15:19:54.998265Z",
     "iopub.status.idle": "2023-05-12T15:19:55.006723Z",
     "shell.execute_reply": "2023-05-12T15:19:55.005689Z"
    },
    "papermill": {
     "duration": 0.023645,
     "end_time": "2023-05-12T15:19:55.008636",
     "exception": false,
     "start_time": "2023-05-12T15:19:54.984991",
     "status": "completed"
    },
    "tags": []
   },
   "outputs": [
    {
     "data": {
      "text/plain": [
       "0    0.616162\n",
       "1    0.383838\n",
       "Name: Survived, dtype: float64"
      ]
     },
     "execution_count": 15,
     "metadata": {},
     "output_type": "execute_result"
    }
   ],
   "source": [
    "train['Survived'].value_counts()/len(train)"
   ]
  },
  {
   "cell_type": "markdown",
   "id": "86068125",
   "metadata": {
    "papermill": {
     "duration": 0.010984,
     "end_time": "2023-05-12T15:19:55.030959",
     "exception": false,
     "start_time": "2023-05-12T15:19:55.019975",
     "status": "completed"
    },
    "tags": []
   },
   "source": [
    "# Data Visualization :"
   ]
  },
  {
   "cell_type": "code",
   "execution_count": 16,
   "id": "bbd21890",
   "metadata": {
    "execution": {
     "iopub.execute_input": "2023-05-12T15:19:55.057290Z",
     "iopub.status.busy": "2023-05-12T15:19:55.056756Z",
     "iopub.status.idle": "2023-05-12T15:19:55.219582Z",
     "shell.execute_reply": "2023-05-12T15:19:55.218853Z"
    },
    "papermill": {
     "duration": 0.179036,
     "end_time": "2023-05-12T15:19:55.221452",
     "exception": false,
     "start_time": "2023-05-12T15:19:55.042416",
     "status": "completed"
    },
    "tags": []
   },
   "outputs": [
    {
     "data": {
      "image/png": "[encoded data removed]",
      "text/plain": [
       "<Figure size 432x576 with 1 Axes>"
      ]
     },
     "metadata": {
      "needs_background": "light"
     },
     "output_type": "display_data"
    }
   ],
   "source": [
    "f, ax = plt.subplots(figsize=(6, 8))\n",
    "ax = sns.countplot(x=\"Survived\", data=train, palette=\"Set2\")\n",
    "plt.show()"
   ]
  },
  {
   "cell_type": "code",
   "execution_count": 17,
   "id": "4bc9bd82",
   "metadata": {
    "execution": {
     "iopub.execute_input": "2023-05-12T15:19:55.247283Z",
     "iopub.status.busy": "2023-05-12T15:19:55.246888Z",
     "iopub.status.idle": "2023-05-12T15:19:55.258787Z",
     "shell.execute_reply": "2023-05-12T15:19:55.257869Z"
    },
    "papermill": {
     "duration": 0.027854,
     "end_time": "2023-05-12T15:19:55.261662",
     "exception": false,
     "start_time": "2023-05-12T15:19:55.233808",
     "status": "completed"
    },
    "tags": []
   },
   "outputs": [
    {
     "name": "stdout",
     "output_type": "stream",
     "text": [
      "Braund, Mr. Owen Harris                     1\n",
      "Boulos, Mr. Hanna                           1\n",
      "Frolicher-Stehli, Mr. Maxmillian            1\n",
      "Gilinski, Mr. Eliezer                       1\n",
      "Murdlin, Mr. Joseph                         1\n",
      "                                           ..\n",
      "Kelly, Miss. Anna Katherine \"Annie Kate\"    1\n",
      "McCoy, Mr. Bernard                          1\n",
      "Johnson, Mr. William Cahoone Jr             1\n",
      "Keane, Miss. Nora A                         1\n",
      "Dooley, Mr. Patrick                         1\n",
      "Name: Name, Length: 891, dtype: int64\n",
      "male      577\n",
      "female    314\n",
      "Name: Sex, dtype: int64\n",
      "347082      7\n",
      "CA. 2343    7\n",
      "1601        7\n",
      "3101295     6\n",
      "CA 2144     6\n",
      "           ..\n",
      "9234        1\n",
      "19988       1\n",
      "2693        1\n",
      "PC 17612    1\n",
      "370376      1\n",
      "Name: Ticket, Length: 681, dtype: int64\n",
      "B96 B98        4\n",
      "G6             4\n",
      "C23 C25 C27    4\n",
      "C22 C26        3\n",
      "F33            3\n",
      "              ..\n",
      "E34            1\n",
      "C7             1\n",
      "C54            1\n",
      "E36            1\n",
      "C148           1\n",
      "Name: Cabin, Length: 147, dtype: int64\n",
      "S    644\n",
      "C    168\n",
      "Q     77\n",
      "Name: Embarked, dtype: int64\n"
     ]
    }
   ],
   "source": [
    "for var in object_cols: \n",
    "    \n",
    "    print(train[var].value_counts())"
   ]
  },
  {
   "cell_type": "code",
   "execution_count": 18,
   "id": "51064c05",
   "metadata": {
    "execution": {
     "iopub.execute_input": "2023-05-12T15:19:55.293608Z",
     "iopub.status.busy": "2023-05-12T15:19:55.292782Z",
     "iopub.status.idle": "2023-05-12T15:19:55.300775Z",
     "shell.execute_reply": "2023-05-12T15:19:55.299254Z"
    },
    "papermill": {
     "duration": 0.028351,
     "end_time": "2023-05-12T15:19:55.303633",
     "exception": false,
     "start_time": "2023-05-12T15:19:55.275282",
     "status": "completed"
    },
    "tags": []
   },
   "outputs": [
    {
     "name": "stdout",
     "output_type": "stream",
     "text": [
      "Name  has  891  unqiue values\n",
      "Sex  has  2  unqiue values\n",
      "Ticket  has  681  unqiue values\n",
      "Cabin  has  148  unqiue values\n",
      "Embarked  has  4  unqiue values\n"
     ]
    }
   ],
   "source": [
    "for var in object_cols:\n",
    "    \n",
    "    print(var, ' has ', len(train[var].unique()), ' unqiue values')"
   ]
  },
  {
   "cell_type": "code",
   "execution_count": 19,
   "id": "592a4b38",
   "metadata": {
    "execution": {
     "iopub.execute_input": "2023-05-12T15:19:55.330583Z",
     "iopub.status.busy": "2023-05-12T15:19:55.330173Z",
     "iopub.status.idle": "2023-05-12T15:19:55.488101Z",
     "shell.execute_reply": "2023-05-12T15:19:55.486470Z"
    },
    "papermill": {
     "duration": 0.175864,
     "end_time": "2023-05-12T15:19:55.492297",
     "exception": false,
     "start_time": "2023-05-12T15:19:55.316433",
     "status": "completed"
    },
    "tags": []
   },
   "outputs": [
    {
     "data": {
      "text/plain": [
       "<AxesSubplot:xlabel='Sex', ylabel='count'>"
      ]
     },
     "execution_count": 19,
     "metadata": {},
     "output_type": "execute_result"
    },
    {
     "data": {
      "image/png": "[encoded data removed]",
      "text/plain": [
       "<Figure size 432x288 with 1 Axes>"
      ]
     },
     "metadata": {
      "needs_background": "light"
     },
     "output_type": "display_data"
    }
   ],
   "source": [
    "sns.countplot(train['Sex'], hue=train['Survived'])"
   ]
  },
  {
   "cell_type": "code",
   "execution_count": 20,
   "id": "d00aaa1c",
   "metadata": {
    "execution": {
     "iopub.execute_input": "2023-05-12T15:19:55.520468Z",
     "iopub.status.busy": "2023-05-12T15:19:55.519008Z",
     "iopub.status.idle": "2023-05-12T15:19:55.694519Z",
     "shell.execute_reply": "2023-05-12T15:19:55.692656Z"
    },
    "papermill": {
     "duration": 0.191858,
     "end_time": "2023-05-12T15:19:55.697606",
     "exception": false,
     "start_time": "2023-05-12T15:19:55.505748",
     "status": "completed"
    },
    "tags": []
   },
   "outputs": [
    {
     "data": {
      "text/plain": [
       "<AxesSubplot:xlabel='Embarked', ylabel='count'>"
      ]
     },
     "execution_count": 20,
     "metadata": {},
     "output_type": "execute_result"
    },
    {
     "data": {
      "image/png": "[encoded data removed]",
      "text/plain": [
       "<Figure size 432x288 with 1 Axes>"
      ]
     },
     "metadata": {
      "needs_background": "light"
     },
     "output_type": "display_data"
    }
   ],
   "source": [
    "sns.countplot(train['Embarked'], hue=train['Survived'])"
   ]
  },
  {
   "cell_type": "code",
   "execution_count": 21,
   "id": "4815a647",
   "metadata": {
    "execution": {
     "iopub.execute_input": "2023-05-12T15:19:55.726723Z",
     "iopub.status.busy": "2023-05-12T15:19:55.726281Z",
     "iopub.status.idle": "2023-05-12T15:19:55.926297Z",
     "shell.execute_reply": "2023-05-12T15:19:55.925315Z"
    },
    "papermill": {
     "duration": 0.215902,
     "end_time": "2023-05-12T15:19:55.928237",
     "exception": false,
     "start_time": "2023-05-12T15:19:55.712335",
     "status": "completed"
    },
    "tags": []
   },
   "outputs": [
    {
     "data": {
      "text/plain": [
       "<AxesSubplot:xlabel='Pclass', ylabel='count'>"
      ]
     },
     "execution_count": 21,
     "metadata": {},
     "output_type": "execute_result"
    },
    {
     "data": {
      "image/png": "[encoded data removed]",
      "text/plain": [
       "<Figure size 432x288 with 1 Axes>"
      ]
     },
     "metadata": {
      "needs_background": "light"
     },
     "output_type": "display_data"
    }
   ],
   "source": [
    "sns.countplot(train['Pclass'], hue=train['Survived'])"
   ]
  },
  {
   "cell_type": "code",
   "execution_count": 22,
   "id": "470ab4fc",
   "metadata": {
    "execution": {
     "iopub.execute_input": "2023-05-12T15:19:55.956198Z",
     "iopub.status.busy": "2023-05-12T15:19:55.955804Z",
     "iopub.status.idle": "2023-05-12T15:19:57.207539Z",
     "shell.execute_reply": "2023-05-12T15:19:57.206338Z"
    },
    "papermill": {
     "duration": 1.268906,
     "end_time": "2023-05-12T15:19:57.210002",
     "exception": false,
     "start_time": "2023-05-12T15:19:55.941096",
     "status": "completed"
    },
    "tags": []
   },
   "outputs": [
    {
     "data": {
      "text/plain": [
       "<AxesSubplot:xlabel='Age', ylabel='count'>"
      ]
     },
     "execution_count": 22,
     "metadata": {},
     "output_type": "execute_result"
    },
    {
     "data": {
      "image/png": "[encoded data removed]",
      "text/plain": [
       "<Figure size 432x288 with 1 Axes>"
      ]
     },
     "metadata": {
      "needs_background": "light"
     },
     "output_type": "display_data"
    }
   ],
   "source": [
    "sns.countplot(train['Age'], hue=train['Survived'])"
   ]
  },
  {
   "cell_type": "code",
   "execution_count": 23,
   "id": "ae62a286",
   "metadata": {
    "execution": {
     "iopub.execute_input": "2023-05-12T15:19:57.238613Z",
     "iopub.status.busy": "2023-05-12T15:19:57.238161Z",
     "iopub.status.idle": "2023-05-12T15:19:57.451350Z",
     "shell.execute_reply": "2023-05-12T15:19:57.450168Z"
    },
    "papermill": {
     "duration": 0.229529,
     "end_time": "2023-05-12T15:19:57.453330",
     "exception": false,
     "start_time": "2023-05-12T15:19:57.223801",
     "status": "completed"
    },
    "tags": []
   },
   "outputs": [
    {
     "data": {
      "text/plain": [
       "<AxesSubplot:xlabel='SibSp', ylabel='count'>"
      ]
     },
     "execution_count": 23,
     "metadata": {},
     "output_type": "execute_result"
    },
    {
     "data": {
      "image/png": "[encoded data removed]",
      "text/plain": [
       "<Figure size 432x288 with 1 Axes>"
      ]
     },
     "metadata": {
      "needs_background": "light"
     },
     "output_type": "display_data"
    }
   ],
   "source": [
    "sns.countplot(train['SibSp'], hue=train['Survived'])"
   ]
  },
  {
   "cell_type": "code",
   "execution_count": 24,
   "id": "f29374b0",
   "metadata": {
    "execution": {
     "iopub.execute_input": "2023-05-12T15:19:57.484624Z",
     "iopub.status.busy": "2023-05-12T15:19:57.484110Z",
     "iopub.status.idle": "2023-05-12T15:19:57.678247Z",
     "shell.execute_reply": "2023-05-12T15:19:57.677483Z"
    },
    "papermill": {
     "duration": 0.21353,
     "end_time": "2023-05-12T15:19:57.680543",
     "exception": false,
     "start_time": "2023-05-12T15:19:57.467013",
     "status": "completed"
    },
    "tags": []
   },
   "outputs": [
    {
     "data": {
      "text/plain": [
       "<AxesSubplot:xlabel='Parch', ylabel='count'>"
      ]
     },
     "execution_count": 24,
     "metadata": {},
     "output_type": "execute_result"
    },
    {
     "data": {
      "image/png": "[encoded data removed]",
      "text/plain": [
       "<Figure size 432x288 with 1 Axes>"
      ]
     },
     "metadata": {
      "needs_background": "light"
     },
     "output_type": "display_data"
    }
   ],
   "source": [
    "sns.countplot(train['Parch'], hue=train['Survived'])"
   ]
  },
  {
   "cell_type": "code",
   "execution_count": 25,
   "id": "661fbb6e",
   "metadata": {
    "execution": {
     "iopub.execute_input": "2023-05-12T15:19:57.713660Z",
     "iopub.status.busy": "2023-05-12T15:19:57.712794Z",
     "iopub.status.idle": "2023-05-12T15:20:01.275864Z",
     "shell.execute_reply": "2023-05-12T15:20:01.274789Z"
    },
    "papermill": {
     "duration": 3.583843,
     "end_time": "2023-05-12T15:20:01.278611",
     "exception": false,
     "start_time": "2023-05-12T15:19:57.694768",
     "status": "completed"
    },
    "tags": []
   },
   "outputs": [
    {
     "data": {
      "text/plain": [
       "<AxesSubplot:xlabel='Fare', ylabel='count'>"
      ]
     },
     "execution_count": 25,
     "metadata": {},
     "output_type": "execute_result"
    },
    {
     "data": {
      "image/png": "[encoded data removed]",
      "text/plain": [
       "<Figure size 432x288 with 1 Axes>"
      ]
     },
     "metadata": {
      "needs_background": "light"
     },
     "output_type": "display_data"
    }
   ],
   "source": [
    "sns.countplot(train['Fare'], hue=train['Survived'])"
   ]
  },
  {
   "cell_type": "code",
   "execution_count": 26,
   "id": "a5daa1ba",
   "metadata": {
    "execution": {
     "iopub.execute_input": "2023-05-12T15:20:01.309793Z",
     "iopub.status.busy": "2023-05-12T15:20:01.309407Z",
     "iopub.status.idle": "2023-05-12T15:20:01.395779Z",
     "shell.execute_reply": "2023-05-12T15:20:01.394412Z"
    },
    "papermill": {
     "duration": 0.104568,
     "end_time": "2023-05-12T15:20:01.398220",
     "exception": false,
     "start_time": "2023-05-12T15:20:01.293652",
     "status": "completed"
    },
    "tags": []
   },
   "outputs": [
    {
     "data": {
      "text/html": [
       "<style type=\"text/css\">\n",
       "#T_8aeb6_row0_col1 {\n",
       "  width: 10em;\n",
       "  height: 80%;\n",
       "}\n",
       "#T_8aeb6_row0_col2 {\n",
       "  background-color: #fff5f0;\n",
       "  color: #000000;\n",
       "}\n",
       "#T_8aeb6_row0_col5 {\n",
       "  background-color: #b40426;\n",
       "  color: #f1f1f1;\n",
       "}\n",
       "#T_8aeb6_row1_col1 {\n",
       "  width: 10em;\n",
       "  height: 80%;\n",
       "  background: linear-gradient(90deg,#205ff2 100.0%, transparent 100.0%);\n",
       "}\n",
       "#T_8aeb6_row1_col2 {\n",
       "  background-color: #67000d;\n",
       "  color: #f1f1f1;\n",
       "}\n",
       "#T_8aeb6_row1_col5 {\n",
       "  background-color: #3b4cc0;\n",
       "  color: #f1f1f1;\n",
       "}\n",
       "</style>\n",
       "<table id=\"T_8aeb6_\">\n",
       "  <thead>\n",
       "    <tr>\n",
       "      <th class=\"blank level0\" >&nbsp;</th>\n",
       "      <th class=\"col_heading level0 col0\" >count</th>\n",
       "      <th class=\"col_heading level0 col1\" >mean</th>\n",
       "      <th class=\"col_heading level0 col2\" >std</th>\n",
       "      <th class=\"col_heading level0 col3\" >min</th>\n",
       "      <th class=\"col_heading level0 col4\" >25%</th>\n",
       "      <th class=\"col_heading level0 col5\" >50%</th>\n",
       "      <th class=\"col_heading level0 col6\" >75%</th>\n",
       "      <th class=\"col_heading level0 col7\" >max</th>\n",
       "    </tr>\n",
       "  </thead>\n",
       "  <tbody>\n",
       "    <tr>\n",
       "      <th id=\"T_8aeb6_level0_row0\" class=\"row_heading level0 row0\" >Age</th>\n",
       "      <td id=\"T_8aeb6_row0_col0\" class=\"data row0 col0\" >714.000000</td>\n",
       "      <td id=\"T_8aeb6_row0_col1\" class=\"data row0 col1\" >29.699118</td>\n",
       "      <td id=\"T_8aeb6_row0_col2\" class=\"data row0 col2\" >14.526497</td>\n",
       "      <td id=\"T_8aeb6_row0_col3\" class=\"data row0 col3\" >0.420000</td>\n",
       "      <td id=\"T_8aeb6_row0_col4\" class=\"data row0 col4\" >20.125000</td>\n",
       "      <td id=\"T_8aeb6_row0_col5\" class=\"data row0 col5\" >28.000000</td>\n",
       "      <td id=\"T_8aeb6_row0_col6\" class=\"data row0 col6\" >38.000000</td>\n",
       "      <td id=\"T_8aeb6_row0_col7\" class=\"data row0 col7\" >80.000000</td>\n",
       "    </tr>\n",
       "    <tr>\n",
       "      <th id=\"T_8aeb6_level0_row1\" class=\"row_heading level0 row1\" >Fare</th>\n",
       "      <td id=\"T_8aeb6_row1_col0\" class=\"data row1 col0\" >891.000000</td>\n",
       "      <td id=\"T_8aeb6_row1_col1\" class=\"data row1 col1\" >32.204208</td>\n",
       "      <td id=\"T_8aeb6_row1_col2\" class=\"data row1 col2\" >49.693429</td>\n",
       "      <td id=\"T_8aeb6_row1_col3\" class=\"data row1 col3\" >0.000000</td>\n",
       "      <td id=\"T_8aeb6_row1_col4\" class=\"data row1 col4\" >7.910400</td>\n",
       "      <td id=\"T_8aeb6_row1_col5\" class=\"data row1 col5\" >14.454200</td>\n",
       "      <td id=\"T_8aeb6_row1_col6\" class=\"data row1 col6\" >31.000000</td>\n",
       "      <td id=\"T_8aeb6_row1_col7\" class=\"data row1 col7\" >512.329200</td>\n",
       "    </tr>\n",
       "  </tbody>\n",
       "</table>\n"
      ],
      "text/plain": [
       "<pandas.io.formats.style.Styler at 0x7ea676fbbe50>"
      ]
     },
     "execution_count": 26,
     "metadata": {},
     "output_type": "execute_result"
    }
   ],
   "source": [
    "num_data = train[num_cols]\n",
    "num_data.describe().T.style.bar(subset=['mean'], color='#205ff2')\\\n",
    "                            .background_gradient(subset=['std'], cmap='Reds')\\\n",
    "                             .background_gradient(subset=['50%'], cmap='coolwarm')"
   ]
  },
  {
   "cell_type": "code",
   "execution_count": 27,
   "id": "315a9262",
   "metadata": {
    "execution": {
     "iopub.execute_input": "2023-05-12T15:20:01.429643Z",
     "iopub.status.busy": "2023-05-12T15:20:01.429296Z",
     "iopub.status.idle": "2023-05-12T15:20:01.435547Z",
     "shell.execute_reply": "2023-05-12T15:20:01.434493Z"
    },
    "papermill": {
     "duration": 0.02454,
     "end_time": "2023-05-12T15:20:01.437866",
     "exception": false,
     "start_time": "2023-05-12T15:20:01.413326",
     "status": "completed"
    },
    "tags": []
   },
   "outputs": [],
   "source": [
    "correlation = train.corr()"
   ]
  },
  {
   "cell_type": "code",
   "execution_count": 28,
   "id": "f9ba3c15",
   "metadata": {
    "execution": {
     "iopub.execute_input": "2023-05-12T15:20:01.468840Z",
     "iopub.status.busy": "2023-05-12T15:20:01.468454Z",
     "iopub.status.idle": "2023-05-12T15:20:01.874974Z",
     "shell.execute_reply": "2023-05-12T15:20:01.873675Z"
    },
    "papermill": {
     "duration": 0.425348,
     "end_time": "2023-05-12T15:20:01.877504",
     "exception": false,
     "start_time": "2023-05-12T15:20:01.452156",
     "status": "completed"
    },
    "tags": []
   },
   "outputs": [
    {
     "data": {
      "image/png": "[encoded data removed]",
      "text/plain": [
       "<Figure size 1152x864 with 2 Axes>"
      ]
     },
     "metadata": {
      "needs_background": "light"
     },
     "output_type": "display_data"
    }
   ],
   "source": [
    "plt.figure(figsize=(16,12))\n",
    "plt.title('Correlation of Variables in Titanic DataSet')\n",
    "ax = sns.heatmap(correlation, square=True, annot=True, fmt='.2f', linecolor='white')\n",
    "ax.set_xticklabels(ax.get_xticklabels(), rotation=90)\n",
    "ax.set_yticklabels(ax.get_yticklabels(), rotation=30)           \n",
    "plt.show()"
   ]
  },
  {
   "cell_type": "markdown",
   "id": "044a61ed",
   "metadata": {
    "papermill": {
     "duration": 0.014529,
     "end_time": "2023-05-12T15:20:01.907145",
     "exception": false,
     "start_time": "2023-05-12T15:20:01.892616",
     "status": "completed"
    },
    "tags": []
   },
   "source": [
    "# Data Cleaning :"
   ]
  },
  {
   "cell_type": "code",
   "execution_count": 29,
   "id": "224aec88",
   "metadata": {
    "execution": {
     "iopub.execute_input": "2023-05-12T15:20:01.939001Z",
     "iopub.status.busy": "2023-05-12T15:20:01.938671Z",
     "iopub.status.idle": "2023-05-12T15:20:01.947375Z",
     "shell.execute_reply": "2023-05-12T15:20:01.945875Z"
    },
    "papermill": {
     "duration": 0.028183,
     "end_time": "2023-05-12T15:20:01.950210",
     "exception": false,
     "start_time": "2023-05-12T15:20:01.922027",
     "status": "completed"
    },
    "tags": []
   },
   "outputs": [],
   "source": [
    "def cleanData(data):\n",
    "    \n",
    "    # Data missing and categorical to drop\n",
    "    data.drop(['Cabin','Name','Ticket'], axis=1, inplace=True)\n",
    "\n",
    "    # Data missing Case2\n",
    "    data['Age'] = data.groupby(['Pclass','Sex'])['Age'].transform(lambda x: x.fillna(x.median()))\n",
    "    \n",
    "    # FARE Data missing in test\n",
    "    data['Fare'] = data.groupby(['Pclass','Sex'])['Fare'].transform(lambda x: x.fillna(x.median()))\n",
    "\n",
    "    # Data missing Case3\n",
    "    data.dropna(axis=0, subset=['Embarked'], inplace=True)\n",
    "    \n",
    "    # Categorical Data\n",
    "    le = preprocessing.LabelEncoder()\n",
    "    \n",
    "    # Sex\n",
    "    data['Sex'].replace({'male':0, 'female':1}, inplace=True)\n",
    "    \n",
    "    # Embarked\n",
    "    data['Embarked'].replace({'S':0, 'C':1, 'Q':2}, inplace=True)\n",
    "    \n",
    "    return data"
   ]
  },
  {
   "cell_type": "code",
   "execution_count": 30,
   "id": "7afa0d39",
   "metadata": {
    "execution": {
     "iopub.execute_input": "2023-05-12T15:20:01.981814Z",
     "iopub.status.busy": "2023-05-12T15:20:01.981497Z",
     "iopub.status.idle": "2023-05-12T15:20:02.019652Z",
     "shell.execute_reply": "2023-05-12T15:20:02.017925Z"
    },
    "papermill": {
     "duration": 0.056536,
     "end_time": "2023-05-12T15:20:02.022324",
     "exception": false,
     "start_time": "2023-05-12T15:20:01.965788",
     "status": "completed"
    },
    "tags": []
   },
   "outputs": [],
   "source": [
    "clean_train = cleanData(train)\n",
    "clean_test = cleanData(test)"
   ]
  },
  {
   "cell_type": "code",
   "execution_count": 31,
   "id": "315faee3",
   "metadata": {
    "execution": {
     "iopub.execute_input": "2023-05-12T15:20:02.054669Z",
     "iopub.status.busy": "2023-05-12T15:20:02.054290Z",
     "iopub.status.idle": "2023-05-12T15:20:02.061427Z",
     "shell.execute_reply": "2023-05-12T15:20:02.060528Z"
    },
    "papermill": {
     "duration": 0.026403,
     "end_time": "2023-05-12T15:20:02.063567",
     "exception": false,
     "start_time": "2023-05-12T15:20:02.037164",
     "status": "completed"
    },
    "tags": []
   },
   "outputs": [],
   "source": [
    "X = train.drop(['Survived'], axis=1)\n",
    "\n",
    "y = train['Survived']"
   ]
  },
  {
   "cell_type": "code",
   "execution_count": 32,
   "id": "669ad2b9",
   "metadata": {
    "execution": {
     "iopub.execute_input": "2023-05-12T15:20:02.094714Z",
     "iopub.status.busy": "2023-05-12T15:20:02.094362Z",
     "iopub.status.idle": "2023-05-12T15:20:02.107583Z",
     "shell.execute_reply": "2023-05-12T15:20:02.106439Z"
    },
    "papermill": {
     "duration": 0.031431,
     "end_time": "2023-05-12T15:20:02.109725",
     "exception": false,
     "start_time": "2023-05-12T15:20:02.078294",
     "status": "completed"
    },
    "tags": []
   },
   "outputs": [
    {
     "data": {
      "text/html": [
       "<div>\n",
       "<style scoped>\n",
       "    .dataframe tbody tr th:only-of-type {\n",
       "        vertical-align: middle;\n",
       "    }\n",
       "\n",
       "    .dataframe tbody tr th {\n",
       "        vertical-align: top;\n",
       "    }\n",
       "\n",
       "    .dataframe thead th {\n",
       "        text-align: right;\n",
       "    }\n",
       "</style>\n",
       "<table border=\"1\" class=\"dataframe\">\n",
       "  <thead>\n",
       "    <tr style=\"text-align: right;\">\n",
       "      <th></th>\n",
       "      <th>PassengerId</th>\n",
       "      <th>Pclass</th>\n",
       "      <th>Sex</th>\n",
       "      <th>Age</th>\n",
       "      <th>SibSp</th>\n",
       "      <th>Parch</th>\n",
       "      <th>Fare</th>\n",
       "      <th>Embarked</th>\n",
       "    </tr>\n",
       "  </thead>\n",
       "  <tbody>\n",
       "    <tr>\n",
       "      <th>0</th>\n",
       "      <td>1</td>\n",
       "      <td>3</td>\n",
       "      <td>0</td>\n",
       "      <td>22.0</td>\n",
       "      <td>1</td>\n",
       "      <td>0</td>\n",
       "      <td>7.2500</td>\n",
       "      <td>0</td>\n",
       "    </tr>\n",
       "    <tr>\n",
       "      <th>1</th>\n",
       "      <td>2</td>\n",
       "      <td>1</td>\n",
       "      <td>1</td>\n",
       "      <td>38.0</td>\n",
       "      <td>1</td>\n",
       "      <td>0</td>\n",
       "      <td>71.2833</td>\n",
       "      <td>1</td>\n",
       "    </tr>\n",
       "    <tr>\n",
       "      <th>2</th>\n",
       "      <td>3</td>\n",
       "      <td>3</td>\n",
       "      <td>1</td>\n",
       "      <td>26.0</td>\n",
       "      <td>0</td>\n",
       "      <td>0</td>\n",
       "      <td>7.9250</td>\n",
       "      <td>0</td>\n",
       "    </tr>\n",
       "    <tr>\n",
       "      <th>3</th>\n",
       "      <td>4</td>\n",
       "      <td>1</td>\n",
       "      <td>1</td>\n",
       "      <td>35.0</td>\n",
       "      <td>1</td>\n",
       "      <td>0</td>\n",
       "      <td>53.1000</td>\n",
       "      <td>0</td>\n",
       "    </tr>\n",
       "    <tr>\n",
       "      <th>4</th>\n",
       "      <td>5</td>\n",
       "      <td>3</td>\n",
       "      <td>0</td>\n",
       "      <td>35.0</td>\n",
       "      <td>0</td>\n",
       "      <td>0</td>\n",
       "      <td>8.0500</td>\n",
       "      <td>0</td>\n",
       "    </tr>\n",
       "  </tbody>\n",
       "</table>\n",
       "</div>"
      ],
      "text/plain": [
       "   PassengerId  Pclass  Sex   Age  SibSp  Parch     Fare  Embarked\n",
       "0            1       3    0  22.0      1      0   7.2500         0\n",
       "1            2       1    1  38.0      1      0  71.2833         1\n",
       "2            3       3    1  26.0      0      0   7.9250         0\n",
       "3            4       1    1  35.0      1      0  53.1000         0\n",
       "4            5       3    0  35.0      0      0   8.0500         0"
      ]
     },
     "execution_count": 32,
     "metadata": {},
     "output_type": "execute_result"
    }
   ],
   "source": [
    "X.head()"
   ]
  },
  {
   "cell_type": "markdown",
   "id": "8d983070",
   "metadata": {
    "papermill": {
     "duration": 0.014445,
     "end_time": "2023-05-12T15:20:02.139121",
     "exception": false,
     "start_time": "2023-05-12T15:20:02.124676",
     "status": "completed"
    },
    "tags": []
   },
   "source": [
    "# Data splitting :"
   ]
  },
  {
   "cell_type": "code",
   "execution_count": 33,
   "id": "70eaf153",
   "metadata": {
    "execution": {
     "iopub.execute_input": "2023-05-12T15:20:02.170412Z",
     "iopub.status.busy": "2023-05-12T15:20:02.170054Z",
     "iopub.status.idle": "2023-05-12T15:20:02.178238Z",
     "shell.execute_reply": "2023-05-12T15:20:02.176808Z"
    },
    "papermill": {
     "duration": 0.026506,
     "end_time": "2023-05-12T15:20:02.180442",
     "exception": false,
     "start_time": "2023-05-12T15:20:02.153936",
     "status": "completed"
    },
    "tags": []
   },
   "outputs": [],
   "source": [
    "X_train, X_test, y_train, y_test = train_test_split(X, y, test_size = 0.25, random_state = 42)"
   ]
  },
  {
   "cell_type": "code",
   "execution_count": 34,
   "id": "1a449043",
   "metadata": {
    "execution": {
     "iopub.execute_input": "2023-05-12T15:20:02.211604Z",
     "iopub.status.busy": "2023-05-12T15:20:02.211233Z",
     "iopub.status.idle": "2023-05-12T15:20:02.219040Z",
     "shell.execute_reply": "2023-05-12T15:20:02.217899Z"
    },
    "papermill": {
     "duration": 0.026356,
     "end_time": "2023-05-12T15:20:02.221739",
     "exception": false,
     "start_time": "2023-05-12T15:20:02.195383",
     "status": "completed"
    },
    "tags": []
   },
   "outputs": [
    {
     "data": {
      "text/plain": [
       "((666, 8), (223, 8))"
      ]
     },
     "execution_count": 34,
     "metadata": {},
     "output_type": "execute_result"
    }
   ],
   "source": [
    "X_train.shape, X_test.shape"
   ]
  },
  {
   "cell_type": "code",
   "execution_count": 35,
   "id": "894cc2c1",
   "metadata": {
    "execution": {
     "iopub.execute_input": "2023-05-12T15:20:02.253838Z",
     "iopub.status.busy": "2023-05-12T15:20:02.253447Z",
     "iopub.status.idle": "2023-05-12T15:20:02.265058Z",
     "shell.execute_reply": "2023-05-12T15:20:02.264113Z"
    },
    "papermill": {
     "duration": 0.029919,
     "end_time": "2023-05-12T15:20:02.267250",
     "exception": false,
     "start_time": "2023-05-12T15:20:02.237331",
     "status": "completed"
    },
    "tags": []
   },
   "outputs": [
    {
     "name": "stdout",
     "output_type": "stream",
     "text": [
      "Rainfall outliers are values < -22.0 or > 79.5\n"
     ]
    }
   ],
   "source": [
    "IQR = train.Age.quantile(0.75) - train.Age.quantile(0.25)\n",
    "Lower_fence = train.Age.quantile(0.25) - (IQR * 3)\n",
    "Upper_fence = train.Age.quantile(0.75) + (IQR * 3)\n",
    "print('Rainfall outliers are values < {lowerboundary} or > {upperboundary}'.format(lowerboundary=Lower_fence, upperboundary=Upper_fence))"
   ]
  },
  {
   "cell_type": "code",
   "execution_count": 36,
   "id": "f5dba85b",
   "metadata": {
    "execution": {
     "iopub.execute_input": "2023-05-12T15:20:02.298938Z",
     "iopub.status.busy": "2023-05-12T15:20:02.298601Z",
     "iopub.status.idle": "2023-05-12T15:20:02.309755Z",
     "shell.execute_reply": "2023-05-12T15:20:02.308461Z"
    },
    "papermill": {
     "duration": 0.030084,
     "end_time": "2023-05-12T15:20:02.312251",
     "exception": false,
     "start_time": "2023-05-12T15:20:02.282167",
     "status": "completed"
    },
    "tags": []
   },
   "outputs": [
    {
     "name": "stdout",
     "output_type": "stream",
     "text": [
      "Rainfall outliers are values < -61.4168 or > 100.3126\n"
     ]
    }
   ],
   "source": [
    "IQR = train.Fare.quantile(0.75) - train.Fare.quantile(0.25)\n",
    "Lower_fence = train.Fare.quantile(0.25) - (IQR * 3)\n",
    "Upper_fence = train.Fare.quantile(0.75) + (IQR * 3)\n",
    "print('Rainfall outliers are values < {lowerboundary} or > {upperboundary}'.format(lowerboundary=Lower_fence, upperboundary=Upper_fence))\n"
   ]
  },
  {
   "cell_type": "code",
   "execution_count": 37,
   "id": "20648cfc",
   "metadata": {
    "execution": {
     "iopub.execute_input": "2023-05-12T15:20:02.346665Z",
     "iopub.status.busy": "2023-05-12T15:20:02.346291Z",
     "iopub.status.idle": "2023-05-12T15:20:02.354785Z",
     "shell.execute_reply": "2023-05-12T15:20:02.353460Z"
    },
    "papermill": {
     "duration": 0.028215,
     "end_time": "2023-05-12T15:20:02.356897",
     "exception": false,
     "start_time": "2023-05-12T15:20:02.328682",
     "status": "completed"
    },
    "tags": []
   },
   "outputs": [],
   "source": [
    "def max_value(df3, variable, top):\n",
    "    return np.where(df3[variable]>top, top, df3[variable])\n",
    "\n",
    "for df3 in [X_train, X_test]:\n",
    "    df3['Age'] = max_value(df3, 'Age', 79.5)\n",
    "    df3['Fare'] = max_value(df3, 'Fare', 100.3126)"
   ]
  },
  {
   "cell_type": "code",
   "execution_count": 38,
   "id": "d900621b",
   "metadata": {
    "execution": {
     "iopub.execute_input": "2023-05-12T15:20:02.389760Z",
     "iopub.status.busy": "2023-05-12T15:20:02.389397Z",
     "iopub.status.idle": "2023-05-12T15:20:02.394913Z",
     "shell.execute_reply": "2023-05-12T15:20:02.394240Z"
    },
    "papermill": {
     "duration": 0.024049,
     "end_time": "2023-05-12T15:20:02.396858",
     "exception": false,
     "start_time": "2023-05-12T15:20:02.372809",
     "status": "completed"
    },
    "tags": []
   },
   "outputs": [],
   "source": [
    "def plot_roc_cur(fper, tper):  \n",
    "    plt.plot(fper, tper, color='orange', label='ROC')\n",
    "    plt.plot([0, 1], [0, 1], color='darkblue', linestyle='--')\n",
    "    plt.xlabel('False Positive Rate')\n",
    "    plt.ylabel('True Positive Rate')\n",
    "    plt.title('Receiver Operating Characteristic (ROC) Curve')\n",
    "    plt.legend()\n",
    "    plt.show()"
   ]
  },
  {
   "cell_type": "markdown",
   "id": "50643eea",
   "metadata": {
    "papermill": {
     "duration": 0.015433,
     "end_time": "2023-05-12T15:20:02.427984",
     "exception": false,
     "start_time": "2023-05-12T15:20:02.412551",
     "status": "completed"
    },
    "tags": []
   },
   "source": [
    "# Start The Model :"
   ]
  },
  {
   "cell_type": "code",
   "execution_count": 39,
   "id": "6f2e7cc9",
   "metadata": {
    "execution": {
     "iopub.execute_input": "2023-05-12T15:20:02.460658Z",
     "iopub.status.busy": "2023-05-12T15:20:02.460246Z",
     "iopub.status.idle": "2023-05-12T15:20:02.470366Z",
     "shell.execute_reply": "2023-05-12T15:20:02.468755Z"
    },
    "papermill": {
     "duration": 0.029886,
     "end_time": "2023-05-12T15:20:02.473035",
     "exception": false,
     "start_time": "2023-05-12T15:20:02.443149",
     "status": "completed"
    },
    "tags": []
   },
   "outputs": [],
   "source": [
    "import time\n",
    "from sklearn.metrics import accuracy_score, roc_auc_score, cohen_kappa_score, plot_confusion_matrix, roc_curve, classification_report\n",
    "def run_model(model, X_train, y_train, X_test, y_test, verbose=True):\n",
    "    t0=time.time()\n",
    "    if verbose == False:\n",
    "        model.fit(X_train,y_train, verbose=0)\n",
    "    else:\n",
    "        model.fit(X_train,y_train)\n",
    "    y_pred = model.predict(X_test)\n",
    "    accuracy = accuracy_score(y_test, y_pred)\n",
    "    roc_auc = roc_auc_score(y_test, y_pred) \n",
    "    coh_kap = cohen_kappa_score(y_test, y_pred)\n",
    "    time_taken = time.time()-t0\n",
    "    print(\"Accuracy = {}\".format(accuracy))\n",
    "    print(\"ROC Area under Curve = {}\".format(roc_auc))\n",
    "    print(\"Cohen's Kappa = {}\".format(coh_kap))\n",
    "    print(\"Time taken = {}\".format(time_taken))\n",
    "    print(classification_report(y_test,y_pred,digits=5))\n",
    "    \n",
    "    probs = model.predict_proba(X_test)  \n",
    "    probs = probs[:, 1]  \n",
    "    fper, tper, thresholds = roc_curve(y_test, probs) \n",
    "    plot_roc_cur(fper, tper)\n",
    "    \n",
    "    plot_confusion_matrix(model, X_test, y_test,cmap=plt.cm.Blues, normalize = 'all')\n",
    "    \n",
    "    return model, accuracy, roc_auc, coh_kap, time_taken"
   ]
  },
  {
   "cell_type": "code",
   "execution_count": 40,
   "id": "63969f42",
   "metadata": {
    "execution": {
     "iopub.execute_input": "2023-05-12T15:20:02.507023Z",
     "iopub.status.busy": "2023-05-12T15:20:02.506668Z",
     "iopub.status.idle": "2023-05-12T15:20:02.884407Z",
     "shell.execute_reply": "2023-05-12T15:20:02.883074Z"
    },
    "papermill": {
     "duration": 0.397212,
     "end_time": "2023-05-12T15:20:02.886741",
     "exception": false,
     "start_time": "2023-05-12T15:20:02.489529",
     "status": "completed"
    },
    "tags": []
   },
   "outputs": [
    {
     "name": "stdout",
     "output_type": "stream",
     "text": [
      "Accuracy = 0.7937219730941704\n",
      "ROC Area under Curve = 0.7756443521882027\n",
      "Cohen's Kappa = 0.554116317482396\n",
      "Time taken = 0.014824390411376953\n",
      "              precision    recall  f1-score   support\n",
      "\n",
      "           0    0.83217   0.84397   0.83803       141\n",
      "           1    0.72500   0.70732   0.71605        82\n",
      "\n",
      "    accuracy                        0.79372       223\n",
      "   macro avg    0.77858   0.77564   0.77704       223\n",
      "weighted avg    0.79276   0.79372   0.79317       223\n",
      "\n"
     ]
    },
    {
     "data": {
      "image/png": "[encoded data removed]",
      "text/plain": [
       "<Figure size 432x288 with 1 Axes>"
      ]
     },
     "metadata": {
      "needs_background": "light"
     },
     "output_type": "display_data"
    },
    {
     "data": {
      "image/png": "[encoded data removed]",
      "text/plain": [
       "<Figure size 432x288 with 2 Axes>"
      ]
     },
     "metadata": {
      "needs_background": "light"
     },
     "output_type": "display_data"
    }
   ],
   "source": [
    "from sklearn.linear_model import LogisticRegression\n",
    "\n",
    "params_lr = {'penalty': 'l1', 'solver':'liblinear'}\n",
    "\n",
    "model_lr = LogisticRegression(**params_lr)\n",
    "model_lr, accuracy_lr, roc_auc_lr, coh_kap_lr, tt_lr = run_model(model_lr, X_train, y_train, X_test, y_test)"
   ]
  },
  {
   "cell_type": "code",
   "execution_count": 41,
   "id": "fb1cebb9",
   "metadata": {
    "execution": {
     "iopub.execute_input": "2023-05-12T15:20:02.920523Z",
     "iopub.status.busy": "2023-05-12T15:20:02.920128Z",
     "iopub.status.idle": "2023-05-12T15:20:03.437760Z",
     "shell.execute_reply": "2023-05-12T15:20:03.435974Z"
    },
    "papermill": {
     "duration": 0.537468,
     "end_time": "2023-05-12T15:20:03.440389",
     "exception": false,
     "start_time": "2023-05-12T15:20:02.902921",
     "status": "completed"
    },
    "tags": []
   },
   "outputs": [
    {
     "name": "stdout",
     "output_type": "stream",
     "text": [
      "Accuracy = 0.8026905829596412\n",
      "ROC Area under Curve = 0.7878394741394222\n",
      "Cohen's Kappa = 0.5756789482788445\n",
      "Time taken = 0.009592771530151367\n",
      "              precision    recall  f1-score   support\n",
      "\n",
      "           0    0.84397   0.84397   0.84397       141\n",
      "           1    0.73171   0.73171   0.73171        82\n",
      "\n",
      "    accuracy                        0.80269       223\n",
      "   macro avg    0.78784   0.78784   0.78784       223\n",
      "weighted avg    0.80269   0.80269   0.80269       223\n",
      "\n"
     ]
    },
    {
     "data": {
      "image/png": "[encoded data removed]",
      "text/plain": [
       "<Figure size 432x288 with 1 Axes>"
      ]
     },
     "metadata": {
      "needs_background": "light"
     },
     "output_type": "display_data"
    },
    {
     "data": {
      "image/png": "[encoded data removed]",
      "text/plain": [
       "<Figure size 432x288 with 2 Axes>"
      ]
     },
     "metadata": {
      "needs_background": "light"
     },
     "output_type": "display_data"
    }
   ],
   "source": [
    "from sklearn.tree import DecisionTreeClassifier\n",
    "\n",
    "params_dt = {'max_depth': 16,\n",
    "             'max_features': \"sqrt\"}\n",
    "\n",
    "model_dt = DecisionTreeClassifier(**params_dt)\n",
    "model_dt, accuracy_dt, roc_auc_dt, coh_kap_dt, tt_dt = run_model(model_dt, X_train, y_train, X_test, y_test)"
   ]
  },
  {
   "cell_type": "code",
   "execution_count": 42,
   "id": "8c3d5b67",
   "metadata": {
    "execution": {
     "iopub.execute_input": "2023-05-12T15:20:03.475413Z",
     "iopub.status.busy": "2023-05-12T15:20:03.475046Z",
     "iopub.status.idle": "2023-05-12T15:20:03.995339Z",
     "shell.execute_reply": "2023-05-12T15:20:03.994157Z"
    },
    "papermill": {
     "duration": 0.540168,
     "end_time": "2023-05-12T15:20:03.997200",
     "exception": false,
     "start_time": "2023-05-12T15:20:03.457032",
     "status": "completed"
    },
    "tags": []
   },
   "outputs": [
    {
     "name": "stdout",
     "output_type": "stream",
     "text": [
      "Accuracy = 0.8026905829596412\n",
      "ROC Area under Curve = 0.7801850890849333\n",
      "Cohen's Kappa = 0.5690821256038647\n",
      "Time taken = 0.16364765167236328\n",
      "              precision    recall  f1-score   support\n",
      "\n",
      "           0    0.82993   0.86525   0.84722       141\n",
      "           1    0.75000   0.69512   0.72152        82\n",
      "\n",
      "    accuracy                        0.80269       223\n",
      "   macro avg    0.78997   0.78019   0.78437       223\n",
      "weighted avg    0.80054   0.80269   0.80100       223\n",
      "\n"
     ]
    },
    {
     "data": {
      "image/png": "[encoded data removed]",
      "text/plain": [
       "<Figure size 432x288 with 1 Axes>"
      ]
     },
     "metadata": {
      "needs_background": "light"
     },
     "output_type": "display_data"
    },
    {
     "data": {
      "image/png": "[encoded data removed]",
      "text/plain": [
       "<Figure size 432x288 with 2 Axes>"
      ]
     },
     "metadata": {
      "needs_background": "light"
     },
     "output_type": "display_data"
    }
   ],
   "source": [
    "from sklearn.ensemble import RandomForestClassifier\n",
    "\n",
    "params_rf = {'max_depth': 16,\n",
    "             'min_samples_leaf': 1,\n",
    "             'min_samples_split': 2,\n",
    "             'n_estimators': 100,\n",
    "             'random_state': 12345}\n",
    "\n",
    "model_rf = RandomForestClassifier(**params_rf)\n",
    "model_rf, accuracy_rf, roc_auc_rf, coh_kap_rf, tt_rf = run_model(model_rf, X_train, y_train, X_test, y_test)"
   ]
  },
  {
   "cell_type": "code",
   "execution_count": 43,
   "id": "0d7b2eff",
   "metadata": {
    "execution": {
     "iopub.execute_input": "2023-05-12T15:20:04.034366Z",
     "iopub.status.busy": "2023-05-12T15:20:04.033320Z",
     "iopub.status.idle": "2023-05-12T15:20:05.384954Z",
     "shell.execute_reply": "2023-05-12T15:20:05.384193Z"
    },
    "papermill": {
     "duration": 1.372382,
     "end_time": "2023-05-12T15:20:05.386657",
     "exception": false,
     "start_time": "2023-05-12T15:20:04.014275",
     "status": "completed"
    },
    "tags": []
   },
   "outputs": [
    {
     "data": {
      "text/html": [
       "<style type='text/css'>\n",
       ".datatable table.frame { margin-bottom: 0; }\n",
       ".datatable table.frame thead { border-bottom: none; }\n",
       ".datatable table.frame tr.coltypes td {  color: #FFFFFF;  line-height: 6px;  padding: 0 0.5em;}\n",
       ".datatable .bool    { background: #DDDD99; }\n",
       ".datatable .object  { background: #565656; }\n",
       ".datatable .int     { background: #5D9E5D; }\n",
       ".datatable .float   { background: #4040CC; }\n",
       ".datatable .str     { background: #CC4040; }\n",
       ".datatable .time    { background: #40CC40; }\n",
       ".datatable .row_index {  background: var(--jp-border-color3);  border-right: 1px solid var(--jp-border-color0);  color: var(--jp-ui-font-color3);  font-size: 9px;}\n",
       ".datatable .frame tbody td { text-align: left; }\n",
       ".datatable .frame tr.coltypes .row_index {  background: var(--jp-border-color0);}\n",
       ".datatable th:nth-child(2) { padding-left: 12px; }\n",
       ".datatable .hellipsis {  color: var(--jp-cell-editor-border-color);}\n",
       ".datatable .vellipsis {  background: var(--jp-layout-color0);  color: var(--jp-cell-editor-border-color);}\n",
       ".datatable .na {  color: var(--jp-cell-editor-border-color);  font-size: 80%;}\n",
       ".datatable .sp {  opacity: 0.25;}\n",
       ".datatable .footer { font-size: 9px; }\n",
       ".datatable .frame_dimensions {  background: var(--jp-border-color3);  border-top: 1px solid var(--jp-border-color0);  color: var(--jp-ui-font-color3);  display: inline-block;  opacity: 0.6;  padding: 1px 10px 1px 5px;}\n",
       "</style>\n"
      ],
      "text/plain": [
       "<IPython.core.display.HTML object>"
      ]
     },
     "metadata": {},
     "output_type": "display_data"
    },
    {
     "name": "stdout",
     "output_type": "stream",
     "text": [
      "Accuracy = 0.8340807174887892\n",
      "ROC Area under Curve = 0.8203165542293721\n",
      "Cohen's Kappa = 0.6422718404508996\n",
      "Time taken = 0.12418341636657715\n",
      "              precision    recall  f1-score   support\n",
      "\n",
      "           0    0.86620   0.87234   0.86926       141\n",
      "           1    0.77778   0.76829   0.77301        82\n",
      "\n",
      "    accuracy                        0.83408       223\n",
      "   macro avg    0.82199   0.82032   0.82113       223\n",
      "weighted avg    0.83368   0.83408   0.83386       223\n",
      "\n"
     ]
    },
    {
     "data": {
      "image/png": "[encoded data removed]",
      "text/plain": [
       "<Figure size 432x288 with 1 Axes>"
      ]
     },
     "metadata": {
      "needs_background": "light"
     },
     "output_type": "display_data"
    },
    {
     "data": {
      "image/png": "[encoded data removed]",
      "text/plain": [
       "<Figure size 432x288 with 2 Axes>"
      ]
     },
     "metadata": {
      "needs_background": "light"
     },
     "output_type": "display_data"
    }
   ],
   "source": [
    "import lightgbm as lgb\n",
    "params_lgb ={'colsample_bytree': 0.95, \n",
    "         'max_depth': 16, \n",
    "         'min_split_gain': 0.1, \n",
    "         'n_estimators': 200, \n",
    "         'num_leaves': 50, \n",
    "         'reg_alpha': 1.2, \n",
    "         'reg_lambda': 1.2, \n",
    "         'subsample': 0.95, \n",
    "         'subsample_freq': 20}\n",
    "\n",
    "model_lgb = lgb.LGBMClassifier(**params_lgb)\n",
    "model_lgb, accuracy_lgb, roc_auc_lgb, coh_kap_lgb, tt_lgb = run_model(model_lgb, X_train, y_train, X_test, y_test)"
   ]
  },
  {
   "cell_type": "code",
   "execution_count": 44,
   "id": "1b20d14b",
   "metadata": {
    "execution": {
     "iopub.execute_input": "2023-05-12T15:20:05.425671Z",
     "iopub.status.busy": "2023-05-12T15:20:05.424445Z",
     "iopub.status.idle": "2023-05-12T15:20:06.617195Z",
     "shell.execute_reply": "2023-05-12T15:20:06.616422Z"
    },
    "papermill": {
     "duration": 1.214163,
     "end_time": "2023-05-12T15:20:06.619388",
     "exception": false,
     "start_time": "2023-05-12T15:20:05.405225",
     "status": "completed"
    },
    "tags": []
   },
   "outputs": [
    {
     "name": "stdout",
     "output_type": "stream",
     "text": [
      "Accuracy = 0.8071748878923767\n",
      "ROC Area under Curve = 0.7811797266908841\n",
      "Cohen's Kappa = 0.5755765059974329\n",
      "Time taken = 0.8659415245056152\n",
      "              precision    recall  f1-score   support\n",
      "\n",
      "           0    0.82667   0.87943   0.85223       141\n",
      "           1    0.76712   0.68293   0.72258        82\n",
      "\n",
      "    accuracy                        0.80717       223\n",
      "   macro avg    0.79689   0.78118   0.78741       223\n",
      "weighted avg    0.80477   0.80717   0.80456       223\n",
      "\n"
     ]
    },
    {
     "data": {
      "image/png": "[encoded data removed]",
      "text/plain": [
       "<Figure size 432x288 with 1 Axes>"
      ]
     },
     "metadata": {
      "needs_background": "light"
     },
     "output_type": "display_data"
    },
    {
     "data": {
      "image/png": "[encoded data removed]",
      "text/plain": [
       "<Figure size 432x288 with 2 Axes>"
      ]
     },
     "metadata": {
      "needs_background": "light"
     },
     "output_type": "display_data"
    }
   ],
   "source": [
    "import xgboost as xgb\n",
    "params_xgb ={'n_estimators': 500,\n",
    "            'max_depth': 16}\n",
    "\n",
    "model_xgb = xgb.XGBClassifier(**params_xgb)\n",
    "model_xgb, accuracy_xgb, roc_auc_xgb, coh_kap_xgb, tt_xgb = run_model(model_xgb, X_train, y_train, X_test, y_test)"
   ]
  },
  {
   "cell_type": "markdown",
   "id": "9ea13d44",
   "metadata": {
    "papermill": {
     "duration": 0.017916,
     "end_time": "2023-05-12T15:20:06.657056",
     "exception": false,
     "start_time": "2023-05-12T15:20:06.639140",
     "status": "completed"
    },
    "tags": []
   },
   "source": [
    "# Prediction :\n"
   ]
  },
  {
   "cell_type": "code",
   "execution_count": 45,
   "id": "b1063b41",
   "metadata": {
    "execution": {
     "iopub.execute_input": "2023-05-12T15:20:06.696468Z",
     "iopub.status.busy": "2023-05-12T15:20:06.695326Z",
     "iopub.status.idle": "2023-05-12T15:20:06.716277Z",
     "shell.execute_reply": "2023-05-12T15:20:06.715250Z"
    },
    "papermill": {
     "duration": 0.045791,
     "end_time": "2023-05-12T15:20:06.721204",
     "exception": false,
     "start_time": "2023-05-12T15:20:06.675413",
     "status": "completed"
    },
    "tags": []
   },
   "outputs": [],
   "source": [
    "predict = model_lgb.predict(pd.get_dummies(clean_test))"
   ]
  },
  {
   "cell_type": "code",
   "execution_count": 46,
   "id": "0f5acbed",
   "metadata": {
    "execution": {
     "iopub.execute_input": "2023-05-12T15:20:06.761545Z",
     "iopub.status.busy": "2023-05-12T15:20:06.761162Z",
     "iopub.status.idle": "2023-05-12T15:20:06.772071Z",
     "shell.execute_reply": "2023-05-12T15:20:06.770588Z"
    },
    "papermill": {
     "duration": 0.033511,
     "end_time": "2023-05-12T15:20:06.774201",
     "exception": false,
     "start_time": "2023-05-12T15:20:06.740690",
     "status": "completed"
    },
    "tags": []
   },
   "outputs": [
    {
     "name": "stdout",
     "output_type": "stream",
     "text": [
      "Submission saved\n"
     ]
    }
   ],
   "source": [
    "output = pd.DataFrame({'PassengerId': clean_test.PassengerId, 'Survived': predict})\n",
    "output.to_csv('my_submission.csv', index=False)\n",
    "print(\"Submission saved\")"
   ]
  }
 ],
 "metadata": {
  "kernelspec": {
   "display_name": "Python 3",
   "language": "python",
   "name": "python3"
  },
  "language_info": {
   "codemirror_mode": {
    "name": "ipython",
    "version": 3
   },
   "file_extension": ".py",
   "mimetype": "text/x-python",
   "name": "python",
   "nbconvert_exporter": "python",
   "pygments_lexer": "ipython3",
   "version": "3.7.12"
  },
  "papermill": {
   "default_parameters": {},
   "duration": 24.986918,
   "end_time": "2023-05-12T15:20:07.815388",
   "environment_variables": {},
   "exception": null,
   "input_path": "__notebook__.ipynb",
   "output_path": "__notebook__.ipynb",
   "parameters": {},
   "start_time": "2023-05-12T15:19:42.828470",
   "version": "2.3.4"
  }
 },
 "nbformat": 4,
 "nbformat_minor": 5
}
